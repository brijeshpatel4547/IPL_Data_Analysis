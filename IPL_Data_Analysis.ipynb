{
 "cells": [
  {
   "cell_type": "code",
   "execution_count": 0,
   "metadata": {
    "application/vnd.databricks.v1+cell": {
     "cellMetadata": {
      "byteLimit": 2048000,
      "rowLimit": 10000
     },
     "inputWidgets": {},
     "nuid": "839fd7aa-03f2-4ffa-94f4-6cb2617d11a1",
     "showTitle": true,
     "title": "Data Load into Dataframes"
    }
   },
   "outputs": [],
   "source": [
    "batting_df = spark.read.format(\"csv\").option(\"header\", \"true\").load(\"dbfs:/FileStore/shared_uploads/brijeshpatel4547@gmail.com/IPL_data/battingSummary.csv\")\n",
    "bowling_df = spark.read.format(\"csv\").option(\"header\", \"true\").load(\"dbfs:/FileStore/shared_uploads/brijeshpatel4547@gmail.com/IPL_data/bowlingSummary.csv\")\n",
    "match_df = spark.read.format(\"csv\").option(\"header\", \"true\").load(\"dbfs:/FileStore/shared_uploads/brijeshpatel4547@gmail.com/IPL_data/matchSummary.csv\")\n",
    "player_df = spark.read.format(\"csv\").option(\"header\", \"true\").load(\"dbfs:/FileStore/shared_uploads/brijeshpatel4547@gmail.com/IPL_data/players.csv\")"
   ]
  },
  {
   "cell_type": "code",
   "execution_count": 0,
   "metadata": {
    "application/vnd.databricks.v1+cell": {
     "cellMetadata": {
      "byteLimit": 2048000,
      "rowLimit": 10000
     },
     "inputWidgets": {},
     "nuid": "f40d8de2-697c-4ebb-9875-bc60fb6d97b3",
     "showTitle": true,
     "title": "Import Libraries"
    }
   },
   "outputs": [],
   "source": [
    "from pyspark.sql.functions import *\n",
    "from pyspark.sql.window import *\n",
    "spark.conf.set(\"spark.sql.legacy.timeParserPolicy\",\"LEGACY\")"
   ]
  },
  {
   "cell_type": "code",
   "execution_count": 0,
   "metadata": {
    "application/vnd.databricks.v1+cell": {
     "cellMetadata": {
      "byteLimit": 2048000,
      "rowLimit": 10000
     },
     "inputWidgets": {},
     "nuid": "3621b8b4-70a2-4dc9-8a19-ad2cd3c72023",
     "showTitle": true,
     "title": "Data Cleaning : Changing DataTypes"
    }
   },
   "outputs": [
    {
     "output_type": "stream",
     "name": "stdout",
     "output_type": "stream",
     "text": [
      "root\n |-- match_id: string (nullable = true)\n |-- match: string (nullable = true)\n |-- teamInnings: string (nullable = true)\n |-- battingPos: integer (nullable = true)\n |-- batsmanName: string (nullable = true)\n |-- out/not_out: integer (nullable = true)\n |-- runs: integer (nullable = true)\n |-- balls: integer (nullable = true)\n |-- 4s: integer (nullable = true)\n |-- 6s: integer (nullable = true)\n |-- SR: float (nullable = true)\n\nroot\n |-- match_id: string (nullable = true)\n |-- match: string (nullable = true)\n |-- bowlingTeam: string (nullable = true)\n |-- bowlerName: string (nullable = true)\n |-- overs: float (nullable = true)\n |-- maiden: integer (nullable = true)\n |-- runs: integer (nullable = true)\n |-- wickets: integer (nullable = true)\n |-- economy: integer (nullable = true)\n |-- 0s: integer (nullable = true)\n |-- 4s: integer (nullable = true)\n |-- 6s: integer (nullable = true)\n |-- wides: integer (nullable = true)\n |-- noBalls: integer (nullable = true)\n\n"
     ]
    }
   ],
   "source": [
    "# +++++++++++++++++++++++++++++++++++++++++++++++++<<< Data Cleaning >>>+++++++++++++++++++++++++++++++++++++++++++++++++\n",
    "\n",
    "batting_df = batting_df.withColumn('out/not_out',col('out/not_out').cast(\"Integer\")) \\\n",
    "                        .withColumn('battingPos',col('battingPos').cast(\"Integer\")) \\\n",
    "                        .withColumn('runs',col('runs').cast(\"Integer\")) \\\n",
    "                        .withColumn('balls',col('balls').cast(\"Integer\")) \\\n",
    "                        .withColumn('4s',col('4s').cast(\"Integer\")) \\\n",
    "                        .withColumn('6s',col('6s').cast(\"Integer\")) \\\n",
    "                        .withColumn('SR',col('SR').cast(\"Float\"))\n",
    "batting_df.printSchema()\n",
    "\n",
    "bowling_df = bowling_df.withColumn('overs',col('overs').cast(\"Float\")) \\\n",
    "                        .withColumn('maiden',col('maiden').cast(\"Integer\")) \\\n",
    "                        .withColumn('runs',col('runs').cast(\"Integer\")) \\\n",
    "                        .withColumn('wickets',col('wickets').cast(\"Integer\")) \\\n",
    "                        .withColumn('economy',col('economy').cast(\"Integer\")) \\\n",
    "                        .withColumn('0s',col('0s').cast(\"Integer\")) \\\n",
    "                        .withColumn('4s',col('4s').cast(\"Integer\")) \\\n",
    "                        .withColumn('6s',col('6s').cast(\"Integer\")) \\\n",
    "                        .withColumn('wides',col('wides').cast(\"Integer\")) \\\n",
    "                        .withColumn('noBalls',col('noBalls').cast(\"Integer\"))\n",
    "bowling_df.printSchema()\n",
    "# +++++++++++++++++++++++++++++++++++++++++++++++++<<< Data Cleaning >>>+++++++++++++++++++++++++++++++++++++++++++++++++\n"
   ]
  },
  {
   "cell_type": "markdown",
   "metadata": {
    "application/vnd.databricks.v1+cell": {
     "cellMetadata": {},
     "inputWidgets": {},
     "nuid": "6ebb11dd-9b76-412b-893d-58f5a2ac213b",
     "showTitle": false,
     "title": ""
    }
   },
   "source": [
    "IPL DATA ANALYSIS.\n",
    "\n",
    "Primary Analysis:\n",
    " 1. Top 10 batsmen based on past 3 years total runs scored.\n",
    " 2. Top 10 batsmen based on past 3 years batting average. (min 60 balls faced in\n",
    " each season)\n",
    " 3. Top 10 batsmen based on past 3 years strike rate (min 60 balls faced in each\n",
    " season)\n",
    " 4. Top 10 bowlers based on past 3 years total wickets taken.\n",
    " 5. Top 10 bowlers based on past 3 years bowling average. (min 60 balls bowled in\n",
    " each season)\n",
    " 6. Top 10 bowlers based on past 3 years economy rate. (min 60 balls bowled in\n",
    " each season)\n",
    " 7. Top 5 batsmen based on past 3 years boundary % (fours and sixes).\n",
    " 8. Top 5 bowlers based on past 3 years dot ball %.\n",
    " 9. Top 4 teams based on past 3 years winning %.\n",
    " 10.Top 2 teams with the highest number of wins achieved by chasing targets over\n",
    " the past 3 years.\n"
   ]
  },
  {
   "cell_type": "code",
   "execution_count": 0,
   "metadata": {
    "application/vnd.databricks.v1+cell": {
     "cellMetadata": {
      "byteLimit": 2048000,
      "rowLimit": 10000
     },
     "inputWidgets": {},
     "nuid": "d4000e67-4cd1-4c51-9efe-d8bf26fd2635",
     "showTitle": true,
     "title": "Top 10 Scorers of last 3 years"
    }
   },
   "outputs": [
    {
     "output_type": "stream",
     "name": "stdout",
     "output_type": "stream",
     "text": [
      "Batsman's with Highest Runs :\n+---------------+----------+\n|    batsmanName|Total_runs|\n+---------------+----------+\n|    ShubmanGill|      1851|\n|   FafduPlessis|      1831|\n| RuturajGaikwad|      1593|\n|        KLRahul|      1516|\n|     JosButtler|      1509|\n|  ShikharDhawan|      1392|\n|     ViratKohli|      1385|\n|    SanjuSamson|      1304|\n|SuryakumarYadav|      1225|\n|   GlennMaxwell|      1214|\n+---------------+----------+\n\n"
     ]
    }
   ],
   "source": [
    "# Top 10 batsmen based on past 3 years total runs scored.\n",
    "highest_runs = batting_df.groupBy(\"batsmanName\").agg(sum('runs').alias('Total_runs')).orderBy(col('Total_runs').desc()).limit(10)\n",
    "\n",
    "print(\"Batsman's with Highest Runs :\")\n",
    "highest_runs.show()\n"
   ]
  },
  {
   "cell_type": "code",
   "execution_count": 0,
   "metadata": {
    "application/vnd.databricks.v1+cell": {
     "cellMetadata": {
      "byteLimit": 2048000,
      "rowLimit": 10000
     },
     "inputWidgets": {},
     "nuid": "d9a173fd-61fa-4de3-836a-e83812c31a92",
     "showTitle": true,
     "title": "Top 10 Batsmen with highest Averages"
    }
   },
   "outputs": [
    {
     "output_type": "stream",
     "name": "stdout",
     "output_type": "stream",
     "text": [
      "Batsman's with Highest Average :\n+---------------+----------+-----------------+-----------+-------+\n|    batsmanName|Total_runs|Total_balls_faced|Innings_Out|Average|\n+---------------+----------+-----------------+-----------+-------+\n|  SaurabhTiwary|       115|               97|          2|   57.5|\n|        KLRahul|      1516|             1148|         30| 50.533|\n|   CameronGreen|       452|              282|          9| 50.222|\n|     RinkuSingh|       648|              434|         13| 49.846|\n|HeinrichKlaasen|       448|              253|          9| 49.778|\n|    DevonConway|       924|              654|         19| 48.632|\n|   SaiSudharsan|       507|              370|         11| 46.091|\n|   FafduPlessis|      1831|             1300|         42| 43.595|\n|    DavidMiller|       864|              628|         20|   43.2|\n|     JosButtler|      1509|             1027|         36| 41.917|\n+---------------+----------+-----------------+-----------+-------+\n\n"
     ]
    }
   ],
   "source": [
    "#Top 10 batsmen based on past 3 years batting average. (min 60 balls faced )\n",
    "batavg = batting_df.groupBy(\"batsmanName\").agg(sum('runs').alias('Total_runs'), \\\n",
    "                                      sum('balls').alias('Total_balls_faced'), \\\n",
    "                                      sum('out/not_out').alias('Innings_Out'))\n",
    "batavg = batavg.withColumn(\"Average\", round(batavg.Total_runs/batavg.Innings_Out,3)) \\\n",
    "                .filter(batavg.Total_balls_faced > 60) \\\n",
    "                .orderBy(col(\"Average\").desc()).limit(10)\n",
    "print(\"Batsman's with Highest Average :\")\n",
    "batavg.show()\n"
   ]
  },
  {
   "cell_type": "code",
   "execution_count": 0,
   "metadata": {
    "application/vnd.databricks.v1+cell": {
     "cellMetadata": {
      "byteLimit": 2048000,
      "rowLimit": 10000
     },
     "inputWidgets": {},
     "nuid": "1f5b0cd6-bc04-4d6c-9c37-819e05ba0770",
     "showTitle": true,
     "title": "Top 10 Batsmen with highest Strike rate"
    }
   },
   "outputs": [
    {
     "output_type": "stream",
     "name": "stdout",
     "output_type": "stream",
     "text": [
      "Batsman's with Highest Strike Rate :\n+---------------+-----------+\n|    batsmanName|Strike Rate|\n+---------------+-----------+\n|HeinrichKlaasen|     182.17|\n|   JiteshSharma|     156.15|\n|  JaydevUnadkat|     150.62|\n|   GlennMaxwell|      150.5|\n|     DhruvJurel|      146.3|\n|       TimDavid|     145.32|\n|  SaurabhTiwary|     144.99|\n|   PrerakMankad|     144.44|\n| RavindraJadeja|      143.5|\n|     RinkuSingh|     143.19|\n+---------------+-----------+\n\n"
     ]
    }
   ],
   "source": [
    "#Top 10 batsmen based on past 3 years strike rate (min 60 balls faced)\n",
    "\n",
    "batSR = batting_df.groupBy(\"batsmanName\").agg(avg('SR').alias('Strike Rate'), \\\n",
    "                                      sum('balls').alias('Total_balls_faced'))\n",
    "batSR = batSR.filter(batSR.Total_balls_faced > 60) \\\n",
    "                .orderBy(col(\"Strike Rate\").desc()).drop(\"Total_balls_faced\").limit(10) \\\n",
    "                .withColumn('Strike Rate',round(col(\"Strike Rate\"),2))\n",
    "print(\"Batsman's with Highest Strike Rate :\")\n",
    "batSR.show()"
   ]
  },
  {
   "cell_type": "code",
   "execution_count": 0,
   "metadata": {
    "application/vnd.databricks.v1+cell": {
     "cellMetadata": {
      "byteLimit": 2048000,
      "rowLimit": 10000
     },
     "inputWidgets": {},
     "nuid": "7d0f8bbe-8eaa-48bd-b60d-1f8c4cb4527e",
     "showTitle": false,
     "title": ""
    }
   },
   "outputs": [
    {
     "output_type": "stream",
     "name": "stdout",
     "output_type": "stream",
     "text": [
      "root\n |-- match_id: string (nullable = true)\n |-- match: string (nullable = true)\n |-- bowlingTeam: string (nullable = true)\n |-- bowlerName: string (nullable = true)\n |-- overs: float (nullable = true)\n |-- maiden: integer (nullable = true)\n |-- runs: integer (nullable = true)\n |-- wickets: integer (nullable = true)\n |-- economy: integer (nullable = true)\n |-- 0s: integer (nullable = true)\n |-- 4s: integer (nullable = true)\n |-- 6s: integer (nullable = true)\n |-- wides: integer (nullable = true)\n |-- noBalls: integer (nullable = true)\n\n"
     ]
    }
   ],
   "source": [
    "bowling_df.printSchema()"
   ]
  },
  {
   "cell_type": "code",
   "execution_count": 0,
   "metadata": {
    "application/vnd.databricks.v1+cell": {
     "cellMetadata": {
      "byteLimit": 2048000,
      "rowLimit": 10000
     },
     "inputWidgets": {},
     "nuid": "33cd2f81-d6df-49c3-bd18-edfced8cc54f",
     "showTitle": true,
     "title": "Top 10 wicket takers in last 3 years"
    }
   },
   "outputs": [
    {
     "output_type": "stream",
     "name": "stdout",
     "output_type": "stream",
     "text": [
      "+-----------------+-------------+\n|       bowlerName|Total Wickets|\n+-----------------+-------------+\n|    MohammedShami|           67|\n|  YuzvendraChahal|           66|\n|     HarshalPatel|           65|\n|       RashidKhan|           63|\n|        AveshKhan|           47|\n|    ArshdeepSingh|           45|\n|     KagisoRabada|           45|\n|VarunChakravarthy|           44|\n|    ShardulThakur|           43|\n|       TrentBoult|           42|\n+-----------------+-------------+\n\n"
     ]
    }
   ],
   "source": [
    "# Top 10 bowlers based on past 3 years total wickets taken.\n",
    "total_wickets = bowling_df.groupBy(\"bowlerName\").agg(sum('wickets').alias(\"Total Wickets\")) \\\n",
    "                          .orderBy(col('Total Wickets').desc()).limit(10)\n",
    "\n",
    "total_wickets.show()"
   ]
  },
  {
   "cell_type": "code",
   "execution_count": 0,
   "metadata": {
    "application/vnd.databricks.v1+cell": {
     "cellMetadata": {
      "byteLimit": 2048000,
      "rowLimit": 10000
     },
     "inputWidgets": {},
     "nuid": "3ef462f0-f308-4cc0-b069-906cbe4d6eb9",
     "showTitle": true,
     "title": "Top 10 bowlers with best Average"
    }
   },
   "outputs": [
    {
     "output_type": "stream",
     "name": "stdout",
     "output_type": "stream",
     "text": [
      "+----------------+--------------------+-------------------+---------------+\n|      bowlerName|Total_Runs_Conceeded|Total_Wickets_Taken|Bowling_Average|\n+----------------+--------------------+-------------------+---------------+\n|        MarkWood|                 130|                 11|          11.82|\n|     MohitSharma|                 361|                 27|          13.37|\n|    AkashMadhwal|                 219|                 14|          15.64|\n|MichaelBracewell|                  95|                  6|          15.83|\n|     ChrisWoakes|                  82|                  5|           16.4|\n|   MitchellMarsh|                 272|                 16|           17.0|\n|      MohsinKhan|                 304|                 17|          17.88|\n|    AndreRussell|                 638|                 35|          18.23|\n|     DwayneBravo|                 562|                 30|          18.73|\n|      AmitMishra|                 227|                 12|          18.92|\n+----------------+--------------------+-------------------+---------------+\n\n"
     ]
    }
   ],
   "source": [
    "# Top 10 bowlers based on past 3 years bowling average. (min 60 balls bowled)\n",
    "bowlingAvg = bowling_df.groupBy(\"bowlerName\").agg(\n",
    "    sum('runs').alias(\"Total_Runs_Conceeded\"), \\\n",
    "    sum('wickets').alias(\"Total_Wickets_Taken\"),\n",
    "    sum('overs').alias(\"Total_Overs\"))\n",
    "\n",
    "bowlingAvg = bowlingAvg.filter(bowlingAvg.Total_Overs > 10).filter(bowlingAvg.Total_Wickets_Taken > 1)\n",
    "\n",
    "bowlingAvg = bowlingAvg.withColumn(\"Bowling_Average\", round(col('Total_Runs_Conceeded')/col('Total_Wickets_Taken'),2)) \\\n",
    "                        .orderBy(col(\"Bowling_Average\").asc()).limit(10).drop(\"Total_Overs\")\n",
    "bowlingAvg.show()\n"
   ]
  },
  {
   "cell_type": "code",
   "execution_count": 0,
   "metadata": {
    "application/vnd.databricks.v1+cell": {
     "cellMetadata": {
      "byteLimit": 2048000,
      "rowLimit": 10000
     },
     "inputWidgets": {},
     "nuid": "f0c32cae-9cb3-49b0-b4bc-99408165b788",
     "showTitle": true,
     "title": "Top 10 bowlers with best economy."
    }
   },
   "outputs": [
    {
     "output_type": "stream",
     "name": "stdout",
     "output_type": "stream",
     "text": [
      "+---------------+------------------+--------------------+\n|     bowlerName|       Total_Overs|Average Economy Rate|\n+---------------+------------------+--------------------+\n|    DavidWilley|              26.0|                6.38|\n|    SunilNarine|             160.0|                6.38|\n|MitchellSantner|              31.0|                6.56|\n|      AxarPatel|             132.0|                6.86|\n|     RashidKhan|             182.5|                6.87|\n|  ShakibAlHasan|              26.0|                6.88|\n|  JaspritBumrah|108.20000004768372|                 7.0|\n|     SaiKishore|              16.0|                 7.0|\n|    ChrisWoakes|              11.0|                 7.0|\n|  Naveen-ul-Haq|              28.0|                7.29|\n+---------------+------------------+--------------------+\n\n"
     ]
    }
   ],
   "source": [
    "# Top 10 bowlers based on past 3 years economy rate. (min 60 balls bowled)\n",
    "bowlingEr = bowling_df.groupBy('bowlerName').agg(\n",
    "    sum('overs').alias(\"Total_Overs\"),round(avg('economy'),2).alias(\"Average Economy Rate\"))\n",
    "bowlingEr = bowlingEr.filter(bowlingEr.Total_Overs > 10)\n",
    "bowlingEr = bowlingEr.orderBy(col(\"Average Economy Rate\")).limit(10)\n",
    "bowlingEr.show()"
   ]
  },
  {
   "cell_type": "code",
   "execution_count": 0,
   "metadata": {
    "application/vnd.databricks.v1+cell": {
     "cellMetadata": {
      "byteLimit": 2048000,
      "rowLimit": 10000
     },
     "inputWidgets": {},
     "nuid": "02e63484-81c9-46aa-8d74-cee7c5ec86f7",
     "showTitle": true,
     "title": "Feature Engineering : Adding A new column in bowling_df"
    }
   },
   "outputs": [
    {
     "output_type": "stream",
     "name": "stdout",
     "output_type": "stream",
     "text": [
      "+--------+------------------+-----------+-------------+-----+------+----+-------+-------+---+---+---+-----+-------+------------+\n|match_id|             match|bowlingTeam|   bowlerName|overs|maiden|runs|wickets|economy| 0s| 4s| 6s|wides|noBalls|Balls_Bowled|\n+--------+------------------+-----------+-------------+-----+------+----+-------+-------+---+---+---+-----+-------+------------+\n| T203817|Super Kings Vs KKR|        KKR|ShakibAlHasan|  3.0|     0|  33|      0|     11|  6|  2|  3|    0|      0|          18|\n| T203817|Super Kings Vs KKR|        KKR|   ShivamMavi|  4.0|     0|  32|      1|      8|  8|  1|  2|    0|      0|          24|\n+--------+------------------+-----------+-------------+-----+------+----+-------+-------+---+---+---+-----+-------+------------+\nonly showing top 2 rows\n\n"
     ]
    }
   ],
   "source": [
    "bowling_df = bowling_df.withColumn(\"Balls_Bowled\",(bowling_df.overs % 1) * 10 + floor(bowling_df.overs) * 6) \\\n",
    "                        .withColumn(\"Balls_Bowled\",col(\"Balls_Bowled\").cast('Integer'))\n",
    "bowling_df.show(2)"
   ]
  },
  {
   "cell_type": "code",
   "execution_count": 0,
   "metadata": {
    "application/vnd.databricks.v1+cell": {
     "cellMetadata": {
      "byteLimit": 2048000,
      "rowLimit": 10000
     },
     "inputWidgets": {},
     "nuid": "302f891c-592c-4c5b-9019-bc0ff184b2cf",
     "showTitle": true,
     "title": "Top 5 bowlers based on past 3 years dot ball %."
    }
   },
   "outputs": [
    {
     "output_type": "stream",
     "name": "stdout",
     "output_type": "stream",
     "text": [
      "+---------------+------------------+----------+-----+\n|     bowlerName|Total_Balls_Bowled|Total_Dots| Dot%|\n+---------------+------------------+----------+-----+\n|    ShreyasIyer|                 6|         4|66.67|\n|     ImranTahir|                24|        14|58.33|\n|    ReeceTopley|                12|         7|58.33|\n| SimarjeetSingh|               108|        57|52.78|\n|   YudhvirSingh|                48|        25|52.08|\n|MoisesHenriques|                60|        31|51.67|\n|     MohsinKhan|               258|       130|50.39|\n|       MarkWood|                96|        48| 50.0|\n|    ChrisWoakes|                66|        33| 50.0|\n|    SanjayYadav|                12|         6| 50.0|\n+---------------+------------------+----------+-----+\n\n"
     ]
    }
   ],
   "source": [
    "bowlingDot = bowling_df.groupBy(\"bowlerName\").agg(sum(\"Balls_Bowled\").alias(\"Total_Balls_Bowled\"),\\\n",
    "                                                  sum(\"0s\").alias(\"Total_Dots\"))\n",
    "\n",
    "bowlingDot = bowlingDot.withColumn(\"Dot%\",round((col(\"Total_Dots\")/col(\"Total_Balls_Bowled\"))*100,2)) \\\n",
    "                        .orderBy(col(\"Dot%\").desc(),col(\"Total_Dots\").desc()).limit(10)\n",
    "                                   \n",
    "bowlingDot.show()"
   ]
  },
  {
   "cell_type": "code",
   "execution_count": 0,
   "metadata": {
    "application/vnd.databricks.v1+cell": {
     "cellMetadata": {
      "byteLimit": 2048000,
      "rowLimit": 10000
     },
     "inputWidgets": {},
     "nuid": "acd3aaac-4c21-4f3d-a659-712178dd4d4d",
     "showTitle": true,
     "title": "Top 4 teams based on past 3 years winning %."
    }
   },
   "outputs": [
    {
     "output_type": "stream",
     "name": "stdout",
     "output_type": "stream",
     "text": [
      "+----+--------------+----------+-----+\n|Team|Matches_Played|Total_Wins| Win%|\n+----+--------------+----------+-----+\n|  GT|            33|        23| 69.7|\n| LSG|            29|        17|58.62|\n| CSK|            45|        25|55.56|\n| RCB|            45|        25|55.56|\n+----+--------------+----------+-----+\nonly showing top 4 rows\n\n"
     ]
    }
   ],
   "source": [
    "# Total Matches Played by each team\n",
    "\n",
    "matches_played = match_df.groupBy(\"team1\").agg(count(col(\"team1\")).alias(\"Team1_Played\")).union(match_df.groupBy(\"team2\").agg(count(col(\"team2\")).alias(\"Team2_Played\")))\n",
    "\n",
    "matches_played = matches_played.groupBy(\"team1\").agg(sum(\"Team1_Played\").alias(\"Matches_Played\")) \\\n",
    "                                .withColumnRenamed(\"team1\",\"Team\").orderBy(\"Matches_Played\",ascending = False)\n",
    "\n",
    "# Total Matches Won\n",
    "matches_won = match_df.groupBy(\"winner\").agg(count(col(\"winner\")).alias(\"Total_Wins\"))\n",
    "\n",
    "# Win % in Past 3 Years\n",
    "matches_joined = matches_played.join(matches_won,matches_played.Team == matches_won.winner,\"inner\").select(\"Team\",\"Matches_Played\",\"Total_Wins\")\n",
    "\n",
    "matches_joined = matches_joined.withColumn(\"Win%\",round((col(\"Total_Wins\")/col(\"Matches_Played\"))*100,2)) \\\n",
    "                                .orderBy(\"Win%\",ascending = False)\n",
    "\n",
    "matches_joined.show(4)\n"
   ]
  },
  {
   "cell_type": "code",
   "execution_count": 0,
   "metadata": {
    "application/vnd.databricks.v1+cell": {
     "cellMetadata": {
      "byteLimit": 2048000,
      "rowLimit": 10000
     },
     "inputWidgets": {},
     "nuid": "349744e0-5084-4a40-b774-63446e636e82",
     "showTitle": true,
     "title": "Top 2 teams with the highest number of wins achieved by chasing targets"
    }
   },
   "outputs": [
    {
     "output_type": "stream",
     "name": "stdout",
     "output_type": "stream",
     "text": [
      "+----+--------------+-----------+-----+\n|Team|Matches_Played|Matches_Won| Win%|\n+----+--------------+-----------+-----+\n|  GT|            33|         14|42.42|\n|  DC|            43|         14|32.56|\n+----+--------------+-----------+-----+\nonly showing top 2 rows\n\n"
     ]
    }
   ],
   "source": [
    "matches_chased = match_df.filter(col(\"margin\").like('%wickets')).groupBy(\"winner\").agg(count(\"Winner\").alias(\"Matches_Won\"))\n",
    "\n",
    "matches_joined_2 = matches_played.join(matches_chased,matches_played.Team == matches_chased.winner,\"inner\").select(\"Team\",\"Matches_Played\",\"Matches_Won\")\n",
    "matches_joined_2 = matches_joined_2.withColumn(\"Win%\",round((col(\"Matches_Won\")/col(\"Matches_Played\"))*100,2)) \\\n",
    "                                .orderBy(\"Win%\",ascending = False)\n",
    "\n",
    "matches_joined_2.show(2)\n",
    "\n"
   ]
  },
  {
   "cell_type": "code",
   "execution_count": 0,
   "metadata": {
    "application/vnd.databricks.v1+cell": {
     "cellMetadata": {
      "byteLimit": 2048000,
      "rowLimit": 10000
     },
     "inputWidgets": {},
     "nuid": "e91d7ab9-3589-47d2-a0cb-df3afa84c383",
     "showTitle": false,
     "title": ""
    }
   },
   "outputs": [
    {
     "output_type": "stream",
     "name": "stdout",
     "output_type": "stream",
     "text": [
      "root\n |-- match_id: string (nullable = true)\n |-- match: string (nullable = true)\n |-- teamInnings: string (nullable = true)\n |-- battingPos: integer (nullable = true)\n |-- batsmanName: string (nullable = true)\n |-- out/not_out: integer (nullable = true)\n |-- runs: integer (nullable = true)\n |-- balls: integer (nullable = true)\n |-- 4s: integer (nullable = true)\n |-- 6s: integer (nullable = true)\n |-- SR: float (nullable = true)\n\n"
     ]
    }
   ],
   "source": [
    "batting_df.printSchema()"
   ]
  },
  {
   "cell_type": "code",
   "execution_count": 0,
   "metadata": {
    "application/vnd.databricks.v1+cell": {
     "cellMetadata": {
      "byteLimit": 2048000,
      "rowLimit": 10000
     },
     "inputWidgets": {},
     "nuid": "33b59e7d-cc27-41ef-90d1-54db1311f693",
     "showTitle": true,
     "title": "Top 5 batsmen based on past 3 years boundary %"
    }
   },
   "outputs": [
    {
     "output_type": "stream",
     "name": "stdout",
     "output_type": "stream",
     "text": [
      "+------------+---------+---------+-------------+---------+\n| batsmanName|TotalRuns|BallFaced|Boundary_runs|Boundary%|\n+------------+---------+---------+-------------+---------+\n|  PatCummins|      156|       80|          124|    79.49|\n|DewaldBrevis|      161|      113|          122|    75.78|\n|AndreRussell|      745|      468|          564|     75.7|\n|  KyleMayers|      365|      246|          276|    75.62|\n| SunilNarine|      154|      112|          116|    75.32|\n+------------+---------+---------+-------------+---------+\n\n"
     ]
    }
   ],
   "source": [
    "runs_df = batting_df.groupBy(\"batsmanName\").agg(sum('runs').alias(\"TotalRuns\"),\\\n",
    "                                                sum('4s').alias(\"Total4s\"),\\\n",
    "                                                sum('6s').alias(\"Total6s\"),\\\n",
    "                                                sum('balls').alias(\"BallFaced\"))\n",
    "\n",
    "runs_df = runs_df.withColumn('Boundary_runs',(col(\"Total4s\")*4 + col(\"Total6s\")*6))\\\n",
    "                    .withColumn('Boundary%',round(col(\"Boundary_runs\")/col(\"TotalRuns\") * 100,2))\\\n",
    "                    .filter(runs_df.BallFaced > 60)\\\n",
    "                    .drop(\"Total4s\",\"Total6s\")\n",
    "\n",
    "runs_df = runs_df.orderBy(\"Boundary%\",ascending=False).limit(5)\n",
    "\n",
    "runs_df.show()"
   ]
  },
  {
   "cell_type": "code",
   "execution_count": 0,
   "metadata": {
    "application/vnd.databricks.v1+cell": {
     "cellMetadata": {},
     "inputWidgets": {},
     "nuid": "476ee7f6-5cbd-4b86-b012-2608d008d106",
     "showTitle": false,
     "title": ""
    }
   },
   "outputs": [],
   "source": []
  }
 ],
 "metadata": {
  "application/vnd.databricks.v1+notebook": {
   "dashboards": [],
   "environmentMetadata": null,
   "language": "python",
   "notebookMetadata": {
    "pythonIndentUnit": 4
   },
   "notebookName": "IPL_Data_Analysis",
   "widgets": {}
  }
 },
 "nbformat": 4,
 "nbformat_minor": 0
}
